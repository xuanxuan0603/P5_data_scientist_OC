{
 "cells": [
  {
   "cell_type": "code",
   "execution_count": 1,
   "metadata": {},
   "outputs": [],
   "source": [
    "# proposition de contrat de maintenance basée sur une analyse de la stabilité des segments au cours du temps\n",
    "# une recommandation de fréquence à laquelle la segmentation doit être mise à jour pour rester pertinente, afin de pouvoir effectuer un devis de contrat de maintenance\n",
    "# Courbe de ARI en fonction de la semianes.\n",
    "import numpy as np\n",
    "import pandas as pd\n",
    "from sklearn.preprocessing import MinMaxScaler, StandardScaler\n",
    "import matplotlib.pyplot as plt\n",
    "from datetime import datetime, timedelta\n",
    "import seaborn as sns\n",
    "from sklearn.cluster import KMeans\n",
    "from sklearn.metrics.cluster import adjusted_rand_score\n",
    "import joblib\n",
    "import plotly.io as pio\n",
    "pio.renderers.default = 'jupyterlab'"
   ]
  },
  {
   "cell_type": "code",
   "execution_count": 2,
   "metadata": {},
   "outputs": [
    {
     "data": {
      "text/html": [
       "<div>\n",
       "<style scoped>\n",
       "    .dataframe tbody tr th:only-of-type {\n",
       "        vertical-align: middle;\n",
       "    }\n",
       "\n",
       "    .dataframe tbody tr th {\n",
       "        vertical-align: top;\n",
       "    }\n",
       "\n",
       "    .dataframe thead th {\n",
       "        text-align: right;\n",
       "    }\n",
       "</style>\n",
       "<table border=\"1\" class=\"dataframe\">\n",
       "  <thead>\n",
       "    <tr style=\"text-align: right;\">\n",
       "      <th></th>\n",
       "      <th>customer_unique_id</th>\n",
       "      <th>order_approved_at</th>\n",
       "      <th>Recency</th>\n",
       "      <th>Frequency</th>\n",
       "      <th>Monetary</th>\n",
       "      <th>review_score_mean</th>\n",
       "      <th>harvesine_distance_mean</th>\n",
       "      <th>product_category_name_english</th>\n",
       "      <th>cate_list</th>\n",
       "    </tr>\n",
       "  </thead>\n",
       "  <tbody>\n",
       "    <tr>\n",
       "      <th>0</th>\n",
       "      <td>0000366f3b9a7992bf8c76cfdf3221e2</td>\n",
       "      <td>2018-05-10 11:11:18</td>\n",
       "      <td>111</td>\n",
       "      <td>51</td>\n",
       "      <td>9365.40</td>\n",
       "      <td>5.0</td>\n",
       "      <td>211.646795</td>\n",
       "      <td>[bed_bath_table, bed_bath_table, bed_bath_tabl...</td>\n",
       "      <td>bed_bath_table</td>\n",
       "    </tr>\n",
       "    <tr>\n",
       "      <th>1</th>\n",
       "      <td>0000b849f77a49e4a4ce2b2a4ca5be3f</td>\n",
       "      <td>2018-05-07 18:25:44</td>\n",
       "      <td>113</td>\n",
       "      <td>60</td>\n",
       "      <td>3915.36</td>\n",
       "      <td>4.0</td>\n",
       "      <td>203.598680</td>\n",
       "      <td>[health_beauty, health_beauty, health_beauty, ...</td>\n",
       "      <td>health_beauty</td>\n",
       "    </tr>\n",
       "    <tr>\n",
       "      <th>2</th>\n",
       "      <td>0000f46a3911fa3c0805444483337064</td>\n",
       "      <td>2017-03-10 21:05:03</td>\n",
       "      <td>536</td>\n",
       "      <td>74</td>\n",
       "      <td>10087.74</td>\n",
       "      <td>3.0</td>\n",
       "      <td>151.416708</td>\n",
       "      <td>[stationery, stationery, stationery, stationer...</td>\n",
       "      <td>stationery</td>\n",
       "    </tr>\n",
       "  </tbody>\n",
       "</table>\n",
       "</div>"
      ],
      "text/plain": [
       "                 customer_unique_id   order_approved_at  Recency  Frequency  \\\n",
       "0  0000366f3b9a7992bf8c76cfdf3221e2 2018-05-10 11:11:18      111         51   \n",
       "1  0000b849f77a49e4a4ce2b2a4ca5be3f 2018-05-07 18:25:44      113         60   \n",
       "2  0000f46a3911fa3c0805444483337064 2017-03-10 21:05:03      536         74   \n",
       "\n",
       "   Monetary  review_score_mean  harvesine_distance_mean  \\\n",
       "0   9365.40                5.0               211.646795   \n",
       "1   3915.36                4.0               203.598680   \n",
       "2  10087.74                3.0               151.416708   \n",
       "\n",
       "                       product_category_name_english       cate_list  \n",
       "0  [bed_bath_table, bed_bath_table, bed_bath_tabl...  bed_bath_table  \n",
       "1  [health_beauty, health_beauty, health_beauty, ...   health_beauty  \n",
       "2  [stationery, stationery, stationery, stationer...      stationery  "
      ]
     },
     "execution_count": 2,
     "metadata": {},
     "output_type": "execute_result"
    }
   ],
   "source": [
    "data_final = joblib.load('data_final.joblib')\n",
    "data_final.head(3)"
   ]
  },
  {
   "cell_type": "code",
   "execution_count": 3,
   "metadata": {},
   "outputs": [
    {
     "name": "stdout",
     "output_type": "stream",
     "text": [
      "La période complète des commandes porte sur 99 semaines.\n"
     ]
    }
   ],
   "source": [
    "orders = data_final.loc[:, \"order_approved_at\"]\n",
    "orders = pd.to_datetime(orders)\n",
    "time_delta = int((orders.max() - orders.min())/np.timedelta64(7,'D'))\n",
    "print(\"La période complète des commandes porte sur {} semaines.\".format(time_delta))"
   ]
  },
  {
   "cell_type": "code",
   "execution_count": 4,
   "metadata": {},
   "outputs": [],
   "source": [
    "# ordre selon la date\n",
    "interval_time = 7\n",
    "data_final = data_final.sort_values(by='order_approved_at')"
   ]
  },
  {
   "cell_type": "code",
   "execution_count": 5,
   "metadata": {},
   "outputs": [
    {
     "name": "stdout",
     "output_type": "stream",
     "text": [
      "2016-10-04T09:43:32.000000000\n",
      "2018-08-29T15:10:26.000000000\n"
     ]
    },
    {
     "data": {
      "text/html": [
       "<div>\n",
       "<style scoped>\n",
       "    .dataframe tbody tr th:only-of-type {\n",
       "        vertical-align: middle;\n",
       "    }\n",
       "\n",
       "    .dataframe tbody tr th {\n",
       "        vertical-align: top;\n",
       "    }\n",
       "\n",
       "    .dataframe thead th {\n",
       "        text-align: right;\n",
       "    }\n",
       "</style>\n",
       "<table border=\"1\" class=\"dataframe\">\n",
       "  <thead>\n",
       "    <tr style=\"text-align: right;\">\n",
       "      <th></th>\n",
       "      <th>customer_unique_id</th>\n",
       "      <th>order_approved_at</th>\n",
       "      <th>Recency</th>\n",
       "      <th>Frequency</th>\n",
       "      <th>Monetary</th>\n",
       "      <th>review_score_mean</th>\n",
       "      <th>harvesine_distance_mean</th>\n",
       "      <th>product_category_name_english</th>\n",
       "      <th>cate_list</th>\n",
       "    </tr>\n",
       "  </thead>\n",
       "  <tbody>\n",
       "    <tr>\n",
       "      <th>7265</th>\n",
       "      <td>14359ea0c7a105749c0a56478825b015</td>\n",
       "      <td>2016-10-04 09:43:32</td>\n",
       "      <td>694</td>\n",
       "      <td>157</td>\n",
       "      <td>11013.27</td>\n",
       "      <td>5.0</td>\n",
       "      <td>203.167274</td>\n",
       "      <td>[consoles_games, consoles_games, consoles_game...</td>\n",
       "      <td>consoles_games</td>\n",
       "    </tr>\n",
       "    <tr>\n",
       "      <th>48309</th>\n",
       "      <td>87776adb449c551e74c13fc34f036105</td>\n",
       "      <td>2016-10-04 10:19:23</td>\n",
       "      <td>694</td>\n",
       "      <td>129</td>\n",
       "      <td>8927.10</td>\n",
       "      <td>5.0</td>\n",
       "      <td>286.899997</td>\n",
       "      <td>[fashion_shoes, fashion_shoes, fashion_shoes, ...</td>\n",
       "      <td>fashion_shoes</td>\n",
       "    </tr>\n",
       "    <tr>\n",
       "      <th>48757</th>\n",
       "      <td>88bc832f104b6dd684a17dbb1b76e778</td>\n",
       "      <td>2016-10-04 10:25:46</td>\n",
       "      <td>694</td>\n",
       "      <td>50</td>\n",
       "      <td>7230.51</td>\n",
       "      <td>1.0</td>\n",
       "      <td>210.990154</td>\n",
       "      <td>[housewares, housewares, housewares, houseware...</td>\n",
       "      <td>housewares</td>\n",
       "    </tr>\n",
       "  </tbody>\n",
       "</table>\n",
       "</div>"
      ],
      "text/plain": [
       "                     customer_unique_id   order_approved_at  Recency  \\\n",
       "7265   14359ea0c7a105749c0a56478825b015 2016-10-04 09:43:32      694   \n",
       "48309  87776adb449c551e74c13fc34f036105 2016-10-04 10:19:23      694   \n",
       "48757  88bc832f104b6dd684a17dbb1b76e778 2016-10-04 10:25:46      694   \n",
       "\n",
       "       Frequency  Monetary  review_score_mean  harvesine_distance_mean  \\\n",
       "7265         157  11013.27                5.0               203.167274   \n",
       "48309        129   8927.10                5.0               286.899997   \n",
       "48757         50   7230.51                1.0               210.990154   \n",
       "\n",
       "                           product_category_name_english       cate_list  \n",
       "7265   [consoles_games, consoles_games, consoles_game...  consoles_games  \n",
       "48309  [fashion_shoes, fashion_shoes, fashion_shoes, ...   fashion_shoes  \n",
       "48757  [housewares, housewares, housewares, houseware...      housewares  "
      ]
     },
     "execution_count": 5,
     "metadata": {},
     "output_type": "execute_result"
    }
   ],
   "source": [
    "initial_datetime = data_final.order_approved_at.values[0]\n",
    "last_datetime = data_final.order_approved_at.values[-1]\n",
    "print(initial_datetime)\n",
    "print(last_datetime)\n",
    "data_final.head(3)"
   ]
  },
  {
   "cell_type": "code",
   "execution_count": 6,
   "metadata": {},
   "outputs": [],
   "source": [
    "#from audioop import minmax\n",
    "\n",
    "def get_data_from_datetime(timestamp, df):\n",
    "    scaler = MinMaxScaler()\n",
    "    data_cluster = scaler.fit_transform(df.loc[df.order_approved_at <=timestamp, ['Recency', 'Frequency', 'Monetary']])\n",
    "    return pd.DataFrame(data_cluster)"
   ]
  },
  {
   "cell_type": "code",
   "execution_count": 50,
   "metadata": {},
   "outputs": [],
   "source": [
    "def compute_ari_scores():\n",
    "    K = 3\n",
    "    time_interval = 7\n",
    "    timestamp = pd.Timestamp(initial_datetime) + timedelta(days=7) \n",
    "    init_model = KMeans(K)\n",
    "    init_data = get_data_from_datetime(timestamp, df=data_final)\n",
    "    init_model.fit(init_data)\n",
    "    init_clusters = init_model.labels_\n",
    "    scores = list()\n",
    "\n",
    "    while timestamp <= last_datetime:\n",
    "        timestamp = timestamp + timedelta(days=time_interval)\n",
    "        new_data = get_data_from_datetime(timestamp, df=data_final)\n",
    "        new_data = new_data[new_data.index.isin(init_data.index)]\n",
    "        current_model = KMeans(K).fit(new_data)\n",
    "        current_clusters = current_model.labels_\n",
    "        ari_score = adjusted_rand_score(init_clusters, current_clusters)\n",
    "        scores.append((ari_score, timestamp))\n",
    "        \n",
    "    return scores"
   ]
  },
  {
   "cell_type": "code",
   "execution_count": 51,
   "metadata": {},
   "outputs": [],
   "source": [
    "ari_scores = pd.DataFrame(compute_ari_scores(), columns=[\"ARI\", \"periode\"])"
   ]
  },
  {
   "cell_type": "code",
   "execution_count": 52,
   "metadata": {},
   "outputs": [],
   "source": [
    "semaines = list()\n",
    "for i in np.arange(0, len(ari_scores), 1):\n",
    "    semaines.append(i)"
   ]
  },
  {
   "cell_type": "code",
   "execution_count": 53,
   "metadata": {},
   "outputs": [
    {
     "data": {
      "text/html": [
       "<div>\n",
       "<style scoped>\n",
       "    .dataframe tbody tr th:only-of-type {\n",
       "        vertical-align: middle;\n",
       "    }\n",
       "\n",
       "    .dataframe tbody tr th {\n",
       "        vertical-align: top;\n",
       "    }\n",
       "\n",
       "    .dataframe thead th {\n",
       "        text-align: right;\n",
       "    }\n",
       "</style>\n",
       "<table border=\"1\" class=\"dataframe\">\n",
       "  <thead>\n",
       "    <tr style=\"text-align: right;\">\n",
       "      <th></th>\n",
       "      <th>ARI</th>\n",
       "      <th>periode</th>\n",
       "      <th>semaines</th>\n",
       "    </tr>\n",
       "  </thead>\n",
       "  <tbody>\n",
       "    <tr>\n",
       "      <th>0</th>\n",
       "      <td>1.000000</td>\n",
       "      <td>2016-10-18 09:43:32</td>\n",
       "      <td>0</td>\n",
       "    </tr>\n",
       "    <tr>\n",
       "      <th>1</th>\n",
       "      <td>1.000000</td>\n",
       "      <td>2016-10-25 09:43:32</td>\n",
       "      <td>1</td>\n",
       "    </tr>\n",
       "    <tr>\n",
       "      <th>2</th>\n",
       "      <td>1.000000</td>\n",
       "      <td>2016-11-01 09:43:32</td>\n",
       "      <td>2</td>\n",
       "    </tr>\n",
       "    <tr>\n",
       "      <th>3</th>\n",
       "      <td>1.000000</td>\n",
       "      <td>2016-11-08 09:43:32</td>\n",
       "      <td>3</td>\n",
       "    </tr>\n",
       "    <tr>\n",
       "      <th>4</th>\n",
       "      <td>1.000000</td>\n",
       "      <td>2016-11-15 09:43:32</td>\n",
       "      <td>4</td>\n",
       "    </tr>\n",
       "    <tr>\n",
       "      <th>5</th>\n",
       "      <td>1.000000</td>\n",
       "      <td>2016-11-22 09:43:32</td>\n",
       "      <td>5</td>\n",
       "    </tr>\n",
       "    <tr>\n",
       "      <th>6</th>\n",
       "      <td>1.000000</td>\n",
       "      <td>2016-11-29 09:43:32</td>\n",
       "      <td>6</td>\n",
       "    </tr>\n",
       "    <tr>\n",
       "      <th>7</th>\n",
       "      <td>1.000000</td>\n",
       "      <td>2016-12-06 09:43:32</td>\n",
       "      <td>7</td>\n",
       "    </tr>\n",
       "    <tr>\n",
       "      <th>8</th>\n",
       "      <td>1.000000</td>\n",
       "      <td>2016-12-13 09:43:32</td>\n",
       "      <td>8</td>\n",
       "    </tr>\n",
       "    <tr>\n",
       "      <th>9</th>\n",
       "      <td>1.000000</td>\n",
       "      <td>2016-12-20 09:43:32</td>\n",
       "      <td>9</td>\n",
       "    </tr>\n",
       "    <tr>\n",
       "      <th>10</th>\n",
       "      <td>1.000000</td>\n",
       "      <td>2016-12-27 09:43:32</td>\n",
       "      <td>10</td>\n",
       "    </tr>\n",
       "    <tr>\n",
       "      <th>11</th>\n",
       "      <td>1.000000</td>\n",
       "      <td>2017-01-03 09:43:32</td>\n",
       "      <td>11</td>\n",
       "    </tr>\n",
       "    <tr>\n",
       "      <th>12</th>\n",
       "      <td>0.134167</td>\n",
       "      <td>2017-01-10 09:43:32</td>\n",
       "      <td>12</td>\n",
       "    </tr>\n",
       "    <tr>\n",
       "      <th>13</th>\n",
       "      <td>0.112801</td>\n",
       "      <td>2017-01-17 09:43:32</td>\n",
       "      <td>13</td>\n",
       "    </tr>\n",
       "    <tr>\n",
       "      <th>14</th>\n",
       "      <td>0.118063</td>\n",
       "      <td>2017-01-24 09:43:32</td>\n",
       "      <td>14</td>\n",
       "    </tr>\n",
       "  </tbody>\n",
       "</table>\n",
       "</div>"
      ],
      "text/plain": [
       "         ARI             periode  semaines\n",
       "0   1.000000 2016-10-18 09:43:32         0\n",
       "1   1.000000 2016-10-25 09:43:32         1\n",
       "2   1.000000 2016-11-01 09:43:32         2\n",
       "3   1.000000 2016-11-08 09:43:32         3\n",
       "4   1.000000 2016-11-15 09:43:32         4\n",
       "5   1.000000 2016-11-22 09:43:32         5\n",
       "6   1.000000 2016-11-29 09:43:32         6\n",
       "7   1.000000 2016-12-06 09:43:32         7\n",
       "8   1.000000 2016-12-13 09:43:32         8\n",
       "9   1.000000 2016-12-20 09:43:32         9\n",
       "10  1.000000 2016-12-27 09:43:32        10\n",
       "11  1.000000 2017-01-03 09:43:32        11\n",
       "12  0.134167 2017-01-10 09:43:32        12\n",
       "13  0.112801 2017-01-17 09:43:32        13\n",
       "14  0.118063 2017-01-24 09:43:32        14"
      ]
     },
     "execution_count": 53,
     "metadata": {},
     "output_type": "execute_result"
    }
   ],
   "source": [
    "ari_scores[\"semaines\"] = semaines\n",
    "ari_scores.head(15)"
   ]
  },
  {
   "cell_type": "code",
   "execution_count": 54,
   "metadata": {},
   "outputs": [
    {
     "data": {
      "image/png": "[encoded data removed]",
      "text/plain": [
       "<Figure size 864x576 with 1 Axes>"
      ]
     },
     "metadata": {
      "needs_background": "light"
     },
     "output_type": "display_data"
    }
   ],
   "source": [
    "fig = plt.figure(figsize=(12,8))\n",
    "ax = sns.lineplot(data=ari_scores, y=\"ARI\", x=\"semaines\")\n",
    "\n",
    "ax.set_xticks(np.arange(0, len(ari_scores), 5))\n",
    "plt.axhline(y=ari_scores.iloc[12][0], linestyle=\"--\", \n",
    "            color=\"green\",\n",
    "            xmax=0.2,\n",
    "            linewidth=1)\n",
    "plt.axhline(y=0.8, linestyle=\":\", \n",
    "            color=\"r\",\n",
    "            xmax=1,\n",
    "            linewidth=1)\n",
    "plt.axvline(x=ari_scores.iloc[12][2], linestyle=\"--\", \n",
    "            color=\"green\",\n",
    "            ymax=0.2,\n",
    "            linewidth=1)\n",
    "\n",
    "plt.xlabel(\"Période (semaines)\")\n",
    "plt.ylabel(\"Score ARI\")\n",
    "plt.title(\"Stabilité temporelle de la segmentation par K-Means\",\n",
    "          fontsize=18,\n",
    "          color=\"b\")\n",
    "plt.show()"
   ]
  },
  {
   "cell_type": "markdown",
   "metadata": {},
   "source": [
    "On remarque une forte inflexion après 12 semianes (environ 3 mois) sur les clients initiaux.\n",
    "\n",
    "Il faudra donc prévoir la maintenance du programme de segmentation tous les 12 mois dans un premier temps puis re-tester cette stabilité temporelle au fil du temps afin de l'affiner. Il sera donc nécessaire de redéfinir les segments clients à chaque maintenance."
   ]
  },
  {
   "cell_type": "markdown",
   "metadata": {},
   "source": [
    "### La stabilité du modèle avec la mise à jour des modèles"
   ]
  },
  {
   "cell_type": "code",
   "execution_count": 12,
   "metadata": {},
   "outputs": [],
   "source": [
    "def compute_ari_scores_with_update():\n",
    "    K = 3\n",
    "    time_interval = 7\n",
    "    timestamp = pd.Timestamp(initial_datetime) + timedelta(days=7) \n",
    "    init_model = KMeans(K)\n",
    "    init_data = get_data_from_datetime(timestamp, df=data_final)\n",
    "    init_model.fit(init_data)\n",
    "    init_clusters = init_model.labels_\n",
    "    scores = list()\n",
    "\n",
    "    while timestamp <= last_datetime:\n",
    "        timestamp = timestamp + timedelta(days=time_interval)\n",
    "        new_data = get_data_from_datetime(timestamp, df=data_final)\n",
    "        new_data2 = new_data[new_data.index.isin(init_data.index)]\n",
    "        current_model = KMeans(K).fit(new_data2)\n",
    "        current_clusters = current_model.labels_\n",
    "        ari_score = adjusted_rand_score(init_clusters, current_clusters)\n",
    "        if ari_score < 0.8:\n",
    "            init_clusters = current_clusters\n",
    "            init_data = new_data2\n",
    "        scores.append((ari_score, timestamp))\n",
    "        \n",
    "    return scores"
   ]
  },
  {
   "cell_type": "code",
   "execution_count": 23,
   "metadata": {},
   "outputs": [
    {
     "data": {
      "image/png": "[encoded data removed]",
      "text/plain": [
       "<Figure size 864x576 with 1 Axes>"
      ]
     },
     "metadata": {
      "needs_background": "light"
     },
     "output_type": "display_data"
    }
   ],
   "source": [
    "ari_scores_with_model_update = pd.DataFrame(compute_ari_scores_with_update(), columns=[\"ARI\", \"periode\"])\n",
    "\n",
    "semaines = list()\n",
    "for i in np.arange(0, len(ari_scores_with_model_update), 1):\n",
    "    semaines.append(i)\n",
    "\n",
    "ari_scores_with_model_update[\"semaines\"] = semaines\n",
    "\n",
    "fig = plt.figure(figsize=(12,8))\n",
    "ax = sns.lineplot(data=ari_scores_with_model_update, y=\"ARI\", x=\"semaines\")\n",
    "ax.set_xticks(np.arange(0, len(ari_scores), 5))\n",
    "\n",
    "plt.axhline(y=ari_scores_with_model_update.iloc[12][0], linestyle=\"--\", \n",
    "            color=\"green\",\n",
    "            xmax=0.53,\n",
    "            linewidth=1)\n",
    "plt.axvline(x=ari_scores_with_model_update.iloc[12][2], linestyle=\"--\", \n",
    "            color=\"green\",\n",
    "            ymax=0.7,\n",
    "            linewidth=1)\n",
    "\n",
    "plt.xlabel(\"Période (semaines)\")\n",
    "plt.ylabel(\"Score ARI\")\n",
    "plt.title(\"Stabilité temporelle de la segmentation par K-Means\",\n",
    "          fontsize=18,\n",
    "          color=\"b\")\n",
    "plt.show()"
   ]
  }
 ],
 "metadata": {
  "kernelspec": {
   "display_name": "Python 3.9.7 ('base')",
   "language": "python",
   "name": "python3"
  },
  "language_info": {
   "codemirror_mode": {
    "name": "ipython",
    "version": 3
   },
   "file_extension": ".py",
   "mimetype": "text/x-python",
   "name": "python",
   "nbconvert_exporter": "python",
   "pygments_lexer": "ipython3",
   "version": "3.9.7"
  },
  "orig_nbformat": 4,
  "vscode": {
   "interpreter": {
    "hash": "cac65b822212352b58528a84fa5c82c006db17e48d8a11408b5f93e3540c7cc4"
   }
  }
 },
 "nbformat": 4,
 "nbformat_minor": 2
}
